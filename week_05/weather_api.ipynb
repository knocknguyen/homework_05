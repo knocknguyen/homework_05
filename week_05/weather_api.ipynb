{
 "cells": [
  {
   "cell_type": "markdown",
   "metadata": {},
   "source": [
    "### OpenWeatherMap\n",
    "Free Weather API\n",
    "\n",
    "https://openweathermap.org/\n",
    "#### Create account\n",
    "1. Create your account. \n",
    "2. Generate API Key.\n",
    "3. Create a file called `api_keys.py`\n",
    "    - add a variable `api_key = 'YOUR API KEY HERE'`\n",
    "4. Save API key.\n",
    "5. Add .gitignore file\n",
    "    - add a line `api_keys.py` to the file"
   ]
  },
  {
   "cell_type": "code",
   "execution_count": 2,
   "metadata": {},
   "outputs": [
    {
     "name": "stdout",
     "output_type": "stream",
     "text": [
      "3426c92455bcd12cfa255bbeb8a337a0\n"
     ]
    }
   ],
   "source": [
    "from api_keys import api_key\n",
    "\n",
    "# you imported a variable name api_key\n",
    "# keys should be kept safe! \n",
    "print(api_key)"
   ]
  },
  {
   "cell_type": "code",
   "execution_count": 7,
   "metadata": {},
   "outputs": [],
   "source": [
    "# Pip install these if you do not have them installed\n",
    "import requests, citipy\n",
    "from pprint import pprint"
   ]
  },
  {
   "cell_type": "markdown",
   "metadata": {},
   "source": [
    "[Anatomy of a URL](https://doepud.co.uk/blog/anatomy-of-a-url)"
   ]
  },
  {
   "cell_type": "code",
   "execution_count": 8,
   "metadata": {},
   "outputs": [
    {
     "name": "stdout",
     "output_type": "stream",
     "text": [
      "<!doctype html>\n",
      "<html>\n",
      "<head>\n",
      "    <title>Example Domain</title>\n",
      "\n",
      "    <meta charset=\"utf-8\" />\n",
      "    <meta http-equiv=\"Content-type\" content=\"text/html; charset=utf-8\" />\n",
      "    <meta name=\"viewport\" content=\"width=device-width, initial-scale=1\" />\n",
      "    <style type=\"text/css\">\n",
      "    body {\n",
      "        background-color: #f0f0f2;\n",
      "        margin: 0;\n",
      "        padding: 0;\n",
      "        font-family: -apple-system, system-ui, BlinkMacSystemFont, \"Segoe UI\", \"Open Sans\", \"Helvetica Neue\", Helvetica, Arial, sans-serif;\n",
      "        \n",
      "    }\n",
      "    div {\n",
      "        width: 600px;\n",
      "        margin: 5em auto;\n",
      "        padding: 2em;\n",
      "        background-color: #fdfdff;\n",
      "        border-radius: 0.5em;\n",
      "        box-shadow: 2px 3px 7px 2px rgba(0,0,0,0.02);\n",
      "    }\n",
      "    a:link, a:visited {\n",
      "        color: #38488f;\n",
      "        text-decoration: none;\n",
      "    }\n",
      "    @media (max-width: 700px) {\n",
      "        div {\n",
      "            margin: 0 auto;\n",
      "            width: auto;\n",
      "        }\n",
      "    }\n",
      "    </style>    \n",
      "</head>\n",
      "\n",
      "<body>\n",
      "<div>\n",
      "    <h1>Example Domain</h1>\n",
      "    <p>This domain is for use in illustrative examples in documents. You may use this\n",
      "    domain in literature without prior coordination or asking for permission.</p>\n",
      "    <p><a href=\"https://www.iana.org/domains/example\">More information...</a></p>\n",
      "</div>\n",
      "</body>\n",
      "</html>\n",
      "\n"
     ]
    }
   ],
   "source": [
    "url = 'http://www.example.com'\n",
    "\n",
    "# Very popular and great example of good python library\n",
    "req = requests.get(url)\n",
    "\n",
    "# dir(req)\n",
    "\n",
    "print(req.text)\n",
    "# gives html\n",
    "# This is how web-scraping is done. "
   ]
  },
  {
   "cell_type": "code",
   "execution_count": 9,
   "metadata": {},
   "outputs": [
    {
     "name": "stdout",
     "output_type": "stream",
     "text": [
      "{\"coord\":{\"lon\":-90.2,\"lat\":38.63},\"weather\":[{\"id\":800,\"main\":\"Clear\",\"description\":\"clear sky\",\"icon\":\"01n\"}],\"base\":\"stations\",\"main\":{\"temp\":63.23,\"feels_like\":59.85,\"temp_min\":60.01,\"temp_max\":66.2,\"pressure\":1024,\"humidity\":55},\"visibility\":10000,\"wind\":{\"speed\":4.7,\"deg\":70},\"clouds\":{\"all\":1},\"dt\":1600479820,\"sys\":{\"type\":1,\"id\":3689,\"country\":\"US\",\"sunrise\":1600429527,\"sunset\":1600473850},\"timezone\":-18000,\"id\":4407066,\"name\":\"St Louis\",\"cod\":200}\n"
     ]
    }
   ],
   "source": [
    "# get weather data for saint louis\n",
    "\n",
    "# base url for all requests. We can change the city to find data for different cities\n",
    "base_url = \"http://api.openweathermap.org/data/2.5/weather?units=Imperial&APPID=\" + api_key\n",
    "city = 'Saint Louis'\n",
    "\n",
    "# f-strings to the rescue!\n",
    "req = requests.get(base_url + f'&q={city}')\n",
    "\n",
    "# get req text\n",
    "# generates a string of data\n",
    "print(req.text)"
   ]
  },
  {
   "cell_type": "code",
   "execution_count": 10,
   "metadata": {},
   "outputs": [
    {
     "name": "stdout",
     "output_type": "stream",
     "text": [
      "<class 'dict'>\n",
      "{'coord': {'lon': -90.2, 'lat': 38.63}, 'weather': [{'id': 800, 'main': 'Clear', 'description': 'clear sky', 'icon': '01n'}], 'base': 'stations', 'main': {'temp': 63.23, 'feels_like': 59.85, 'temp_min': 60.01, 'temp_max': 66.2, 'pressure': 1024, 'humidity': 55}, 'visibility': 10000, 'wind': {'speed': 4.7, 'deg': 70}, 'clouds': {'all': 1}, 'dt': 1600479820, 'sys': {'type': 1, 'id': 3689, 'country': 'US', 'sunrise': 1600429527, 'sunset': 1600473850}, 'timezone': -18000, 'id': 4407066, 'name': 'St Louis', 'cod': 200}\n"
     ]
    }
   ],
   "source": [
    "# parsing a string to extract the data is a pain! \n",
    "# Let's get something more useful.\n",
    "\n",
    "#turn into json/dict format\n",
    "json_data = req.json()\n",
    "print(type(json_data))\n",
    "print(json_data)"
   ]
  },
  {
   "cell_type": "code",
   "execution_count": 11,
   "metadata": {},
   "outputs": [
    {
     "name": "stdout",
     "output_type": "stream",
     "text": [
      "{'base': 'stations',\n",
      " 'clouds': {'all': 1},\n",
      " 'cod': 200,\n",
      " 'coord': {'lat': 38.63, 'lon': -90.2},\n",
      " 'dt': 1600479820,\n",
      " 'id': 4407066,\n",
      " 'main': {'feels_like': 59.85,\n",
      "          'humidity': 55,\n",
      "          'pressure': 1024,\n",
      "          'temp': 63.23,\n",
      "          'temp_max': 66.2,\n",
      "          'temp_min': 60.01},\n",
      " 'name': 'St Louis',\n",
      " 'sys': {'country': 'US',\n",
      "         'id': 3689,\n",
      "         'sunrise': 1600429527,\n",
      "         'sunset': 1600473850,\n",
      "         'type': 1},\n",
      " 'timezone': -18000,\n",
      " 'visibility': 10000,\n",
      " 'weather': [{'description': 'clear sky',\n",
      "              'icon': '01n',\n",
      "              'id': 800,\n",
      "              'main': 'Clear'}],\n",
      " 'wind': {'deg': 70, 'speed': 4.7}}\n"
     ]
    }
   ],
   "source": [
    "# Hmm.... still hard to read. \n",
    "# Let's pretty print it! \n",
    "pprint(json_data)\n",
    "# Much easier to read! "
   ]
  },
  {
   "cell_type": "code",
   "execution_count": 12,
   "metadata": {},
   "outputs": [
    {
     "name": "stdout",
     "output_type": "stream",
     "text": [
      "4.7\n"
     ]
    }
   ],
   "source": [
    "# Access data by traversing the dictionary. \n",
    "# Use dictionary access and list access methods\n",
    "# access wind info\n",
    "\n",
    "wind = json_data['wind']['speed']\n",
    "print(wind)"
   ]
  },
  {
   "cell_type": "code",
   "execution_count": 28,
   "metadata": {},
   "outputs": [
    {
     "data": {
      "text/plain": [
       "'clear sky'"
      ]
     },
     "execution_count": 28,
     "metadata": {},
     "output_type": "execute_result"
    }
   ],
   "source": [
    "# Lists can also be used in JSON/dicts\n",
    "# access weather description\n",
    "\n",
    "weather_desc = json_data['weather'][0]['description']\n",
    "weather_desc\n"
   ]
  },
  {
   "cell_type": "markdown",
   "metadata": {},
   "source": [
    "#### Final Thoughts:\n",
    "1. APIs limit requests. Especially free ones. \n",
    "2. If you run out of requests you will have to wait until more are allowed. \n",
    "3. For the homework: Run small batches of requests until you get good code. Then run all requests. \n",
    "4. Avoid unecessarily running the code to make API calls once it's working. \n",
    "5. API calls can be notoriously slow! \n",
    "6. This HW is a gread candiate for your portfolio! Start early and make it awesome! "
   ]
  },
  {
   "cell_type": "markdown",
   "metadata": {},
   "source": [
    "https://restfulapi.net/http-methods/"
   ]
  },
  {
   "cell_type": "code",
   "execution_count": 36,
   "metadata": {},
   "outputs": [
    {
     "name": "stdout",
     "output_type": "stream",
     "text": [
      "{'city': ['Swansea', 'St Louis', 'Baton Rouge', 'Saint Charles'],\n",
      " 'humidity': [87, 62, 78, 48],\n",
      " 'sunrise': [1600495054, 1600429527, 1600429860, 1600429592],\n",
      " 'sunset': [1600539685, 1600473850, 1600473973, 1600473920],\n",
      " 'temp': [55.58, 61.23, 72.36, 61.29]}\n"
     ]
    }
   ],
   "source": [
    "# Time permitting:\n",
    "# Create a list of cities\n",
    "cities_list = ['swansea', 'saint louis', 'baton rouge','saint charles']\n",
    "\n",
    "# Create data structure to hold data points (at least 2)\n",
    "\n",
    "city_weather = {'city':[],\n",
    "                'humidity':[],\n",
    "                'temp':[],\n",
    "                'sunrise':[],\n",
    "                'sunset':[]}\n",
    "        \n",
    "# Loop over list of cities and add data to data structure\n",
    "\n",
    "for city in cities_list:\n",
    "    base_url = \"http://api.openweathermap.org/data/2.5/weather?units=Imperial&APPID=\" + api_key\n",
    "    \n",
    "    # send http request\n",
    "    req = requests.get(base_url + f'&q={city}')\n",
    "    \n",
    "    # jsonify data becaus it's text\n",
    "    data = req.json()\n",
    "    \n",
    "    #add values to our city_weater dict\n",
    "    city_weather['city'].append(data['name'])\n",
    "    city_weather['humidity'].append(data['main']['humidity'])\n",
    "    city_weather['temp'].append(data['main']['temp'])\n",
    "    city_weather['sunrise'].append(data['sys']['sunrise'])\n",
    "    city_weather['sunset'].append(data['sys']['sunset'])\n",
    "\n",
    "\n",
    "pprint(city_weather)\n",
    "\n"
   ]
  },
  {
   "cell_type": "code",
   "execution_count": 40,
   "metadata": {},
   "outputs": [
    {
     "data": {
      "text/html": [
       "<div>\n",
       "<style scoped>\n",
       "    .dataframe tbody tr th:only-of-type {\n",
       "        vertical-align: middle;\n",
       "    }\n",
       "\n",
       "    .dataframe tbody tr th {\n",
       "        vertical-align: top;\n",
       "    }\n",
       "\n",
       "    .dataframe thead th {\n",
       "        text-align: right;\n",
       "    }\n",
       "</style>\n",
       "<table border=\"1\" class=\"dataframe\">\n",
       "  <thead>\n",
       "    <tr style=\"text-align: right;\">\n",
       "      <th></th>\n",
       "      <th>city</th>\n",
       "      <th>humidity</th>\n",
       "      <th>temp</th>\n",
       "      <th>sunrise</th>\n",
       "      <th>sunset</th>\n",
       "    </tr>\n",
       "  </thead>\n",
       "  <tbody>\n",
       "    <tr>\n",
       "      <th>0</th>\n",
       "      <td>Swansea</td>\n",
       "      <td>87</td>\n",
       "      <td>55.58</td>\n",
       "      <td>1600495054</td>\n",
       "      <td>1600539685</td>\n",
       "    </tr>\n",
       "    <tr>\n",
       "      <th>1</th>\n",
       "      <td>St Louis</td>\n",
       "      <td>62</td>\n",
       "      <td>61.23</td>\n",
       "      <td>1600429527</td>\n",
       "      <td>1600473850</td>\n",
       "    </tr>\n",
       "    <tr>\n",
       "      <th>2</th>\n",
       "      <td>Baton Rouge</td>\n",
       "      <td>78</td>\n",
       "      <td>72.36</td>\n",
       "      <td>1600429860</td>\n",
       "      <td>1600473973</td>\n",
       "    </tr>\n",
       "    <tr>\n",
       "      <th>3</th>\n",
       "      <td>Saint Charles</td>\n",
       "      <td>48</td>\n",
       "      <td>61.29</td>\n",
       "      <td>1600429592</td>\n",
       "      <td>1600473920</td>\n",
       "    </tr>\n",
       "  </tbody>\n",
       "</table>\n",
       "</div>"
      ],
      "text/plain": [
       "            city  humidity   temp     sunrise      sunset\n",
       "0        Swansea        87  55.58  1600495054  1600539685\n",
       "1       St Louis        62  61.23  1600429527  1600473850\n",
       "2    Baton Rouge        78  72.36  1600429860  1600473973\n",
       "3  Saint Charles        48  61.29  1600429592  1600473920"
      ]
     },
     "execution_count": 40,
     "metadata": {},
     "output_type": "execute_result"
    }
   ],
   "source": [
    "\n",
    "# convert to DataFrame\n",
    "import pandas as pd\n",
    "city_weather: {'city': ['Swansea', 'St Louis', 'Baton Rouge', 'Saint Charles'],\n",
    "               'humidity': [77, 62, 78, 48],\n",
    "               'temp': [55.58, 61.23, 72.36, 61.29],\n",
    "               'sunrise': [1600495054, 1600429527, 1600429860, 1600429592],\n",
    "               'sunset': [1600539685, 1600473850, 1600473973, 1600473920]}\n",
    "\n",
    "df_weather = pd.DataFrame(city_weather)\n",
    "df_weather\n"
   ]
  },
  {
   "cell_type": "code",
   "execution_count": null,
   "metadata": {},
   "outputs": [],
   "source": []
  }
 ],
 "metadata": {
  "kernelspec": {
   "display_name": "Python 3",
   "language": "python",
   "name": "python3"
  },
  "language_info": {
   "codemirror_mode": {
    "name": "ipython",
    "version": 3
   },
   "file_extension": ".py",
   "mimetype": "text/x-python",
   "name": "python",
   "nbconvert_exporter": "python",
   "pygments_lexer": "ipython3",
   "version": "3.8.5"
  }
 },
 "nbformat": 4,
 "nbformat_minor": 4
}
